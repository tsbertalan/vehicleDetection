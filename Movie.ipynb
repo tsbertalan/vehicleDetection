{
 "cells": [
  {
   "cell_type": "code",
   "execution_count": 2,
   "metadata": {},
   "outputs": [],
   "source": [
    "import cv2\n",
    "import matplotlib.pyplot as plt\n",
    "import numpy as np\n",
    "import tqdm\n",
    "\n",
    "%matplotlib inline"
   ]
  },
  {
   "cell_type": "code",
   "execution_count": 3,
   "metadata": {},
   "outputs": [],
   "source": [
    "import matplotlib as mpl"
   ]
  },
  {
   "cell_type": "code",
   "execution_count": 4,
   "metadata": {},
   "outputs": [
    {
     "name": "stderr",
     "output_type": "stream",
     "text": [
      "/home/tsbertalan/.virtualenvs/carnd/lib/python3.5/site-packages/sklearn/cross_validation.py:41: DeprecationWarning: This module was deprecated in version 0.18 in favor of the model_selection module into which all the refactored classes and functions are moved. Also note that the interface of the new CV iterators are different from that of this module. This module will be removed in 0.20.\n",
      "  \"This module will be removed in 0.20.\", DeprecationWarning)\n"
     ]
    }
   ],
   "source": [
    "import vehicleDetection"
   ]
  },
  {
   "cell_type": "code",
   "execution_count": 5,
   "metadata": {},
   "outputs": [],
   "source": [
    "from importlib import reload"
   ]
  },
  {
   "cell_type": "code",
   "execution_count": 6,
   "metadata": {},
   "outputs": [
    {
     "data": {
      "text/plain": [
       "<module 'vehicleDetection.drawing' from '/mnt/wdblue/Dropbox/Projects/Vehicle Detection/vehicleDetection/drawing.py'>"
      ]
     },
     "execution_count": 6,
     "metadata": {},
     "output_type": "execute_result"
    }
   ],
   "source": [
    "import vehicleDetection.drawing\n",
    "reload(vehicleDetection.drawing)"
   ]
  },
  {
   "cell_type": "code",
   "execution_count": 7,
   "metadata": {},
   "outputs": [
    {
     "data": {
      "text/plain": [
       "<module 'vehicleDetection.temporal' from '/mnt/wdblue/Dropbox/Projects/Vehicle Detection/vehicleDetection/temporal.py'>"
      ]
     },
     "execution_count": 7,
     "metadata": {},
     "output_type": "execute_result"
    }
   ],
   "source": [
    "import vehicleDetection.temporal\n",
    "reload(vehicleDetection.temporal)"
   ]
  },
  {
   "cell_type": "markdown",
   "metadata": {},
   "source": [
    "# Load and look at the training data."
   ]
  },
  {
   "cell_type": "code",
   "execution_count": 8,
   "metadata": {},
   "outputs": [
    {
     "data": {
      "application/vnd.jupyter.widget-view+json": {
       "model_id": "2975823b22b9499dbfe428aa48dafb18",
       "version_major": 2,
       "version_minor": 0
      },
      "text/html": [
       "<p>Failed to display Jupyter Widget of type <code>HBox</code>.</p>\n",
       "<p>\n",
       "  If you're reading this message in the Jupyter Notebook or JupyterLab Notebook, it may mean\n",
       "  that the widgets JavaScript is still loading. If this message persists, it\n",
       "  likely means that the widgets JavaScript library is either not installed or\n",
       "  not enabled. See the <a href=\"https://ipywidgets.readthedocs.io/en/stable/user_install.html\">Jupyter\n",
       "  Widgets Documentation</a> for setup instructions.\n",
       "</p>\n",
       "<p>\n",
       "  If you're reading this message in another frontend (for example, a static\n",
       "  rendering on GitHub or <a href=\"https://nbviewer.jupyter.org/\">NBViewer</a>),\n",
       "  it may mean that your frontend doesn't currently support widgets.\n",
       "</p>\n"
      ],
      "text/plain": [
       "HBox(children=(IntProgress(value=0, max=6726), HTML(value='')))"
      ]
     },
     "metadata": {},
     "output_type": "display_data"
    },
    {
     "name": "stdout",
     "output_type": "stream",
     "text": [
      "\n"
     ]
    }
   ],
   "source": [
    "images, classes = vehicleDetection.data.getData(numLighter=0, numFlip=0)\n",
    "imageWindows = images\n",
    "windowClasses = classes"
   ]
  },
  {
   "cell_type": "markdown",
   "metadata": {},
   "source": [
    "# Train the classifier on the full dataset with the best classifier parameters."
   ]
  },
  {
   "cell_type": "code",
   "execution_count": 9,
   "metadata": {},
   "outputs": [
    {
     "name": "stdout",
     "output_type": "stream",
     "text": [
      "Got scalar parameter (C). Assuming no CV requested.\n"
     ]
    }
   ],
   "source": [
    "detectorNoAug = vehicleDetection.detector.Detector()"
   ]
  },
  {
   "cell_type": "code",
   "execution_count": 10,
   "metadata": {},
   "outputs": [],
   "source": [
    "# indices = np.arange(len(images))\n",
    "# np.random.shuffle(indices)\n",
    "# # Fit time here is roughly linear in n.\n",
    "# n = 1024\n",
    "# imageWindows = [images[i] for i in indices[:n]]\n",
    "# windowClasses = [classes[i] for i in indices[:n]]"
   ]
  },
  {
   "cell_type": "code",
   "execution_count": 11,
   "metadata": {},
   "outputs": [
    {
     "name": "stdout",
     "output_type": "stream",
     "text": [
      "Estimated fit/test runtime is 3.98 minutes.\n"
     ]
    }
   ],
   "source": [
    "spi = (3*60 + 59) / (6053 + 673)\n",
    "print('Estimated fit/test runtime is %.3g minutes.' % (len(imageWindows) * spi / 60.,))"
   ]
  },
  {
   "cell_type": "code",
   "execution_count": 12,
   "metadata": {},
   "outputs": [
    {
     "name": "stderr",
     "output_type": "stream",
     "text": [
      "/home/tsbertalan/.virtualenvs/carnd/lib/python3.5/site-packages/skimage/feature/_hog.py:119: skimage_deprecation: Default value of `block_norm`==`L1` is deprecated and will be changed to `L2-Hys` in v0.15\n",
      "  'be changed to `L2-Hys` in v0.15', skimage_deprecation)\n"
     ]
    },
    {
     "name": "stdout",
     "output_type": "stream",
     "text": [
      "6053-image train accuracy of clf =  0.99966958533\n",
      "673-image test accuracy of clf =  0.994056463596\n",
      "CPU times: user 2min 16s, sys: 596 ms, total: 2min 17s\n",
      "Wall time: 2min 17s\n"
     ]
    }
   ],
   "source": [
    "%%time\n",
    "detectorNoAug.fit(\n",
    "    imageWindows,\n",
    "    windowClasses,\n",
    ")"
   ]
  },
  {
   "cell_type": "markdown",
   "metadata": {},
   "source": [
    "# Run the detector on a test image."
   ]
  },
  {
   "cell_type": "code",
   "execution_count": null,
   "metadata": {},
   "outputs": [],
   "source": [
    "maxf = np.inf\n",
    "testh = vehicleDetection.temporal.HeatVideo(maxFrames=maxf)"
   ]
  },
  {
   "cell_type": "code",
   "execution_count": 13,
   "metadata": {},
   "outputs": [],
   "source": [
    "maxf = np.inf\n",
    "projh = vehicleDetection.temporal.HeatVideo(fpath='../../../data/vehicleDetection/project_video.mp4', maxFrames=maxf)"
   ]
  },
  {
   "cell_type": "code",
   "execution_count": null,
   "metadata": {},
   "outputs": [],
   "source": [
    "testh.go(detectorNoAug);"
   ]
  },
  {
   "cell_type": "code",
   "execution_count": null,
   "metadata": {},
   "outputs": [],
   "source": [
    "# testh.coolingKwargs['heatTransferCoefficient'] = 1\n",
    "# testh.coolingKwargs['heatCapacity'] = 6\n",
    "# testh.coolingKwargs['powerFactor'] = 10\n",
    "# testh.coolingKwargs['coolingRate'] = 64"
   ]
  },
  {
   "cell_type": "code",
   "execution_count": null,
   "metadata": {},
   "outputs": [],
   "source": [
    "%%time\n",
    "testh.persist(16)\n",
    "testh.video();"
   ]
  },
  {
   "cell_type": "code",
   "execution_count": null,
   "metadata": {},
   "outputs": [],
   "source": [
    "T = testh.temperatures[-1]\n",
    "fig, ax = plt.subplots()\n",
    "im = ax.imshow(T, origin='upper', cmap='hot')\n",
    "fig.colorbar(im, label='temp [K]')"
   ]
  },
  {
   "cell_type": "code",
   "execution_count": null,
   "metadata": {},
   "outputs": [],
   "source": [
    "fig, ax = plt.subplots(figsize=(16, 9))\n",
    "ax.imshow(testh.vidFrame)\n",
    "ax.set_xticks([])\n",
    "ax.set_yticks([]);"
   ]
  },
  {
   "cell_type": "code",
   "execution_count": null,
   "metadata": {},
   "outputs": [],
   "source": [
    "# projh.inputFrames = projh.inputFrames[120:]"
   ]
  },
  {
   "cell_type": "code",
   "execution_count": null,
   "metadata": {},
   "outputs": [],
   "source": [
    "projh.go(detectorNoAug);"
   ]
  },
  {
   "cell_type": "code",
   "execution_count": 16,
   "metadata": {},
   "outputs": [
    {
     "data": {
      "application/vnd.jupyter.widget-view+json": {
       "model_id": "6c3ceb1c0b744c00a369089bca04ae90",
       "version_major": 2,
       "version_minor": 0
      },
      "text/html": [
       "<p>Failed to display Jupyter Widget of type <code>HBox</code>.</p>\n",
       "<p>\n",
       "  If you're reading this message in the Jupyter Notebook or JupyterLab Notebook, it may mean\n",
       "  that the widgets JavaScript is still loading. If this message persists, it\n",
       "  likely means that the widgets JavaScript library is either not installed or\n",
       "  not enabled. See the <a href=\"https://ipywidgets.readthedocs.io/en/stable/user_install.html\">Jupyter\n",
       "  Widgets Documentation</a> for setup instructions.\n",
       "</p>\n",
       "<p>\n",
       "  If you're reading this message in another frontend (for example, a static\n",
       "  rendering on GitHub or <a href=\"https://nbviewer.jupyter.org/\">NBViewer</a>),\n",
       "  it may mean that your frontend doesn't currently support widgets.\n",
       "</p>\n"
      ],
      "text/plain": [
       "HBox(children=(IntProgress(value=0, description='persist bboxes: ', max=274), HTML(value='')))"
      ]
     },
     "metadata": {},
     "output_type": "display_data"
    },
    {
     "name": "stdout",
     "output_type": "stream",
     "text": [
      "\n"
     ]
    },
    {
     "data": {
      "application/vnd.jupyter.widget-view+json": {
       "model_id": "145c7a70276848c6bf8615d78b799566",
       "version_major": 2,
       "version_minor": 0
      },
      "text/html": [
       "<p>Failed to display Jupyter Widget of type <code>HBox</code>.</p>\n",
       "<p>\n",
       "  If you're reading this message in the Jupyter Notebook or JupyterLab Notebook, it may mean\n",
       "  that the widgets JavaScript is still loading. If this message persists, it\n",
       "  likely means that the widgets JavaScript library is either not installed or\n",
       "  not enabled. See the <a href=\"https://ipywidgets.readthedocs.io/en/stable/user_install.html\">Jupyter\n",
       "  Widgets Documentation</a> for setup instructions.\n",
       "</p>\n",
       "<p>\n",
       "  If you're reading this message in another frontend (for example, a static\n",
       "  rendering on GitHub or <a href=\"https://nbviewer.jupyter.org/\">NBViewer</a>),\n",
       "  it may mean that your frontend doesn't currently support widgets.\n",
       "</p>\n"
      ],
      "text/plain": [
       "HBox(children=(IntProgress(value=1, bar_style='info', description='project_video-detected.mp4: ', max=1), HTML(value='')))"
      ]
     },
     "metadata": {},
     "output_type": "display_data"
    },
    {
     "name": "stdout",
     "output_type": "stream",
     "text": [
      "\n",
      "CPU times: user 20.2 s, sys: 13.4 s, total: 33.6 s\n",
      "Wall time: 53 s\n"
     ]
    }
   ],
   "source": [
    "%%time\n",
    "projh.persist(10)\n",
    "projh.video();"
   ]
  },
  {
   "cell_type": "markdown",
   "metadata": {},
   "source": [
    "Prototype an efficient pyramid of HOG features."
   ]
  },
  {
   "cell_type": "code",
   "execution_count": 278,
   "metadata": {},
   "outputs": [],
   "source": [
    "frame = projh.inputFrames[-1]\n",
    "feature_image = detectorNoAug.featurize.getChannels(frame)\n",
    "from skimage.feature import hog"
   ]
  },
  {
   "cell_type": "code",
   "execution_count": 279,
   "metadata": {},
   "outputs": [],
   "source": [
    "d = 64\n",
    "scales = [\n",
    "        #  scale,    (lo,  hi),  overlap\n",
    "           #(256/64, (720, 400), .5),\n",
    "            (d/128, (690, 400), .5),\n",
    "            (d/96,  (600, 400), .4),\n",
    "            (d/64,  (600, 400), .3),\n",
    "            (d/48,  (550, 400), .25),\n",
    "        ]\n",
    "hog_channel = 'ALL'\n",
    "hog_channel = 0\n",
    "orient = 9\n",
    "pixels_per_cell = 8\n",
    "cells_per_block = 2\n",
    "hog_channels = [0, 1, 2] if str(hog_channel).lower() == 'all' else [hog_channel]"
   ]
  },
  {
   "cell_type": "code",
   "execution_count": 280,
   "metadata": {},
   "outputs": [],
   "source": [
    "def ar(f):\n",
    "    fr = round(f)\n",
    "    assert f == fr\n",
    "    return int(fr)"
   ]
  },
  {
   "cell_type": "code",
   "execution_count": 340,
   "metadata": {},
   "outputs": [
    {
     "name": "stderr",
     "output_type": "stream",
     "text": [
      "/home/tsbertalan/.virtualenvs/carnd/lib/python3.5/site-packages/skimage/feature/_hog.py:119: skimage_deprecation: Default value of `block_norm`==`L1` is deprecated and will be changed to `L2-Hys` in v0.15\n",
      "  'be changed to `L2-Hys` in v0.15', skimage_deprecation)\n"
     ]
    },
    {
     "name": "stdout",
     "output_type": "stream",
     "text": [
      "CPU times: user 1.93 s, sys: 72 ms, total: 2 s\n",
      "Wall time: 1.95 s\n"
     ]
    }
   ],
   "source": [
    "%%time\n",
    "\n",
    "\n",
    "def breakIntoWindows(\n",
    "    feature_channel,\n",
    "    scales = [\n",
    "        #  scale,    (lo,  hi),  overlap\n",
    "           #(256/64, (720, 400), .5),\n",
    "            (d/128, (690, 400), .5),\n",
    "            (d/96,  (600, 400), .4),\n",
    "            (d/64,  (600, 400), .3),\n",
    "            (d/48,  (550, 400), .25),\n",
    "        ],\n",
    "    orient = 9,\n",
    "    pixels_per_cell = 8,\n",
    "    cells_per_block = 2,\n",
    "    visualize=False,\n",
    "    ):\n",
    "    \n",
    "    fl = np.math.floor\n",
    "    \n",
    "    # Accumulate output.\n",
    "    blockWindows = []\n",
    "    windowLocations = []\n",
    "    sliceWindows = []\n",
    "    hogVisualizations = []\n",
    "    \n",
    "    for islice in range(len(slices)):\n",
    "        \n",
    "        # Extract the image slice and goal window geometry.\n",
    "        slice = slices[islice]\n",
    "        scale, (lo, hi), overlapFraction = scales[islice]\n",
    "\n",
    "        # Resize the image slice so that the windows will be d-by-d.\n",
    "        unscaledSlice = feature_channel[hi:lo, :]\n",
    "        sliceShape = tuple([int(s*scale) for s in unscaledSlice.shape[:2]])\n",
    "        imgSlice = cv2.resize(unscaledSlice, sliceShape[::-1])\n",
    "        \n",
    "        # What is the geometry of a window and stride in the unscaled image?\n",
    "        overlapPix = min(fl(d * overlapFraction), d - 1)\n",
    "        stridePix = d - overlapPix\n",
    "            \n",
    "        # Extract HOG features for the scaled slice.\n",
    "        res = hog(\n",
    "            imgSlice[:, :],\n",
    "            orientations=orient,\n",
    "            pixels_per_cell=(pixels_per_cell, pixels_per_cell), \n",
    "            cells_per_block=(cells_per_block, cells_per_block),\n",
    "            visualise=visualize, feature_vector=False\n",
    "        )\n",
    "        feature_array, hog_image = res if visualize else (res, None)\n",
    "\n",
    "        # How do we convert from cell-&-block indexing to unscaled-pixel indexing?\n",
    "        cellsPerWindow = ar(d / pixels_per_cell)\n",
    "        \n",
    "        # How does sklearn do the HOG block striding?\n",
    "        overlappingBlocksPerWindow = cellsPerWindow - 1\n",
    "        cellsPerBlockStride = 1\n",
    "        \n",
    "        # How many blocks should *we* step by so our windows overlap\n",
    "        # by approximately the desired fraction?\n",
    "        strideBlocks = round(stridePix / pixels_per_cell / cellsPerBlockStride)\n",
    "        \n",
    "\n",
    "        \n",
    "#         for k in [\n",
    "#             'imgSlice.shape', 'feature_array.shape', #'pixPerBlock', 'pixPerCell', \n",
    "#             'cellsPerWindow', 'overlappingBlocksPerWindow',\n",
    "#             'overlapPix', 'stridePix', 'overlapFraction',\n",
    "#             'strideBlocks',\n",
    "#         ]:\n",
    "#             pt(k)\n",
    "        \n",
    "        dr = dc = overlappingBlocksPerWindow\n",
    "        rs = cs = strideBlocks\n",
    "        \n",
    "        \n",
    "        def pt(expr, connector='is'):\n",
    "            print(expr, connector, end=' ')\n",
    "            exec('print(%s)' % expr)\n",
    "        \n",
    "        rpix = 0\n",
    "        rl = 0\n",
    "        while rl + dr <= feature_array.shape[0]:\n",
    "            cl = 0\n",
    "            cpix = 0\n",
    "            while cl + dc <= feature_array.shape[1]:\n",
    "                blockWindow = feature_array[rl:(rl+dr), cl:(cl+dc), ...]\n",
    "                blockWindows.append(blockWindow)\n",
    "                wl = np.floor(np.array((\n",
    "                    (cpix / scale, hi + rpix / scale), ((cpix + d) / scale, hi + (rpix + d) / scale)\n",
    "                ))).astype(int)\n",
    "                windowLocations.append(tuple([tuple(p) for p in wl]))\n",
    "                sliceWindows.append(\n",
    "                    imgSlice[rpix:rpix+d, cpix:cpix+d]\n",
    "                )\n",
    "                if visualize:\n",
    "                    hogVisualizations.append(\n",
    "                        hog_image[rpix:rpix+d, cpix:cpix+d]\n",
    "                    )\n",
    "                cl += cs\n",
    "                cpix += stridePix\n",
    "            rl += rs\n",
    "            rpix += stridePix\n",
    "#         pt('np.stack(blockWindows).size')\n",
    "#         pt('np.stack(sliceWindows).size')\n",
    "#         print('--')\n",
    "    return blockWindows, sliceWindows, windowLocations, hogVisualizations\n",
    "blockWindows, sliceWindows, windowLocations, hogVisualizations = breakIntoWindows(feature_image[:, :, 1], visualize=True)"
   ]
  },
  {
   "cell_type": "code",
   "execution_count": 343,
   "metadata": {},
   "outputs": [
    {
     "data": {
      "image/png": "[encoded data removed]",
      "text/plain": [
       "<matplotlib.figure.Figure at 0x7f751c93a9e8>"
      ]
     },
     "metadata": {},
     "output_type": "display_data"
    }
   ],
   "source": [
    "i = 12\n",
    "im = sliceWindows[i]\n",
    "fig, (ax1, ax2, ax3) = plt.subplots(figsize=(16,9), ncols=3)\n",
    "ax1.imshow(im, cmap='gray')\n",
    "ax2.imshow(vehicleDetection.drawing.drawBboxes(frame, [windowLocations[i]]))\n",
    "ax3.imshow(hogVisualizations[i])\n",
    "for a in ax1, ax2, ax3:\n",
    "    a.set_xticks([]); a.set_yticks([])"
   ]
  },
  {
   "cell_type": "code",
   "execution_count": 59,
   "metadata": {},
   "outputs": [],
   "source": [
    "slice = slices[0]"
   ]
  },
  {
   "cell_type": "code",
   "execution_count": 61,
   "metadata": {},
   "outputs": [
    {
     "name": "stderr",
     "output_type": "stream",
     "text": [
      "/home/tsbertalan/.virtualenvs/carnd/lib/python3.5/site-packages/skimage/feature/_hog.py:119: skimage_deprecation: Default value of `block_norm`==`L1` is deprecated and will be changed to `L2-Hys` in v0.15\n",
      "  'be changed to `L2-Hys` in v0.15', skimage_deprecation)\n"
     ]
    }
   ],
   "source": [
    "feature_array = hog(slice[:, :, 0], orientations=orient, pixels_per_cell=(pix_per_cell, pix_per_cell), cells_per_block=(cell_per_block, cell_per_block), visualise=False, feature_vector=False)"
   ]
  },
  {
   "cell_type": "code",
   "execution_count": 62,
   "metadata": {},
   "outputs": [
    {
     "data": {
      "text/plain": [
       "(79, 17, 2, 2, 9)"
      ]
     },
     "execution_count": 62,
     "metadata": {},
     "output_type": "execute_result"
    }
   ],
   "source": [
    "feature_array.shape"
   ]
  },
  {
   "cell_type": "markdown",
   "metadata": {},
   "source": [
    "Try again on the agumented data."
   ]
  },
  {
   "cell_type": "code",
   "execution_count": null,
   "metadata": {},
   "outputs": [],
   "source": [
    "images, classes = vehicleDetection.data.getData()"
   ]
  },
  {
   "cell_type": "code",
   "execution_count": null,
   "metadata": {},
   "outputs": [],
   "source": [
    "detectorAug = vehicleDetection.detector.Detector()"
   ]
  },
  {
   "cell_type": "code",
   "execution_count": null,
   "metadata": {},
   "outputs": [],
   "source": [
    "spi = (3*60 + 59) / (6053 + 673)\n",
    "print('Estimated fit/test runtime is %.3g minutes.' % (len(images) * spi / 60.,))"
   ]
  },
  {
   "cell_type": "code",
   "execution_count": null,
   "metadata": {},
   "outputs": [],
   "source": [
    "%%time\n",
    "detectorAug.fit(\n",
    "    images,\n",
    "    classes,\n",
    ")"
   ]
  },
  {
   "cell_type": "code",
   "execution_count": null,
   "metadata": {},
   "outputs": [],
   "source": [
    "testha = HeatVideo()\n",
    "testha.go(detectorAug)"
   ]
  },
  {
   "cell_type": "code",
   "execution_count": null,
   "metadata": {},
   "outputs": [],
   "source": [
    "testha.persist(20)\n",
    "testha.video(label='-augmented')"
   ]
  },
  {
   "cell_type": "code",
   "execution_count": null,
   "metadata": {},
   "outputs": [],
   "source": [
    "projha = HeatVideo(fpath='../../../data/vehicleDetection/project_video.mp4',)\n",
    "projha.go(detectorAug)"
   ]
  },
  {
   "cell_type": "code",
   "execution_count": null,
   "metadata": {},
   "outputs": [],
   "source": [
    "projha.persist(20)\n",
    "projha.video(label='-augmented')"
   ]
  }
 ],
 "metadata": {
  "kernelspec": {
   "display_name": "Python 3 (no explicit path to executable given)",
   "language": "python",
   "name": "python3"
  },
  "language_info": {
   "codemirror_mode": {
    "name": "ipython",
    "version": 3
   },
   "file_extension": ".py",
   "mimetype": "text/x-python",
   "name": "python",
   "nbconvert_exporter": "python",
   "pygments_lexer": "ipython3",
   "version": "3.5.2"
  }
 },
 "nbformat": 4,
 "nbformat_minor": 2
}
