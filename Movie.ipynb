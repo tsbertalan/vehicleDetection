{
 "cells": [
  {
   "cell_type": "code",
   "execution_count": 1,
   "metadata": {},
   "outputs": [],
   "source": [
    "import cv2\n",
    "import matplotlib.pyplot as plt\n",
    "import numpy as np\n",
    "import tqdm\n",
    "\n",
    "%matplotlib inline"
   ]
  },
  {
   "cell_type": "code",
   "execution_count": 2,
   "metadata": {},
   "outputs": [],
   "source": [
    "import matplotlib as mpl"
   ]
  },
  {
   "cell_type": "code",
   "execution_count": 3,
   "metadata": {},
   "outputs": [
    {
     "name": "stderr",
     "output_type": "stream",
     "text": [
      "/home/tsbertalan/.virtualenvs/carnd/lib/python3.5/site-packages/sklearn/cross_validation.py:41: DeprecationWarning: This module was deprecated in version 0.18 in favor of the model_selection module into which all the refactored classes and functions are moved. Also note that the interface of the new CV iterators are different from that of this module. This module will be removed in 0.20.\n",
      "  \"This module will be removed in 0.20.\", DeprecationWarning)\n"
     ]
    }
   ],
   "source": [
    "import vehicleDetection"
   ]
  },
  {
   "cell_type": "markdown",
   "metadata": {},
   "source": [
    "# Load and look at the training data."
   ]
  },
  {
   "cell_type": "code",
   "execution_count": 4,
   "metadata": {},
   "outputs": [
    {
     "data": {
      "application/vnd.jupyter.widget-view+json": {
       "model_id": "572cdbeafb1f4260907db2a1fb0ccb41",
       "version_major": 2,
       "version_minor": 0
      },
      "text/html": [
       "<p>Failed to display Jupyter Widget of type <code>HBox</code>.</p>\n",
       "<p>\n",
       "  If you're reading this message in Jupyter Notebook or JupyterLab, it may mean\n",
       "  that the widgets JavaScript is still loading. If this message persists, it\n",
       "  likely means that the widgets JavaScript library is either not installed or\n",
       "  not enabled. See the <a href=\"https://ipywidgets.readthedocs.io/en/stable/user_install.html\">Jupyter\n",
       "  Widgets Documentation</a> for setup instructions.\n",
       "</p>\n",
       "<p>\n",
       "  If you're reading this message in another notebook frontend (for example, a static\n",
       "  rendering on GitHub or <a href=\"https://nbviewer.jupyter.org/\">NBViewer</a>),\n",
       "  it may mean that your frontend doesn't currently support widgets.\n",
       "</p>\n"
      ],
      "text/plain": [
       "HBox(children=(IntProgress(value=0, max=6726), HTML(value='')))"
      ]
     },
     "metadata": {},
     "output_type": "display_data"
    },
    {
     "name": "stdout",
     "output_type": "stream",
     "text": [
      "\n"
     ]
    }
   ],
   "source": [
    "images, classes = vehicleDetection.data.getData(numLighter=0, numFlip=0)"
   ]
  },
  {
   "cell_type": "markdown",
   "metadata": {},
   "source": [
    "# Train the classifier on the full dataset with the best classifier parameters."
   ]
  },
  {
   "cell_type": "code",
   "execution_count": 5,
   "metadata": {},
   "outputs": [
    {
     "name": "stdout",
     "output_type": "stream",
     "text": [
      "Got scalar parameter (C). Assuming no CV requested.\n"
     ]
    }
   ],
   "source": [
    "detectorNoAug = vehicleDetection.detector.Detector()"
   ]
  },
  {
   "cell_type": "code",
   "execution_count": 6,
   "metadata": {},
   "outputs": [],
   "source": [
    "# indices = np.arange(len(images))\n",
    "# np.random.shuffle(indices)\n",
    "# n = 1024\n",
    "# imageWindows = [images[i] for i in indices[:n]]\n",
    "# windowClasses = [classes[i] for i in indices[:n]]\n",
    "# \n",
    "# %%time\n",
    "# detectorNoAug.fit(\n",
    "#     imageWindows,\n",
    "#     windowClasses,\n",
    "# )"
   ]
  },
  {
   "cell_type": "code",
   "execution_count": 7,
   "metadata": {},
   "outputs": [
    {
     "name": "stderr",
     "output_type": "stream",
     "text": [
      "/home/tsbertalan/.virtualenvs/carnd/lib/python3.5/site-packages/skimage/feature/_hog.py:119: skimage_deprecation: Default value of `block_norm`==`L1` is deprecated and will be changed to `L2-Hys` in v0.15\n",
      "  'be changed to `L2-Hys` in v0.15', skimage_deprecation)\n"
     ]
    },
    {
     "name": "stdout",
     "output_type": "stream",
     "text": [
      "6053-image train accuracy of clf =  0.985957376508\n",
      "673-image test accuracy of clf =  0.992570579495\n",
      "CPU times: user 3min 36s, sys: 624 ms, total: 3min 37s\n",
      "Wall time: 3min 37s\n"
     ]
    }
   ],
   "source": [
    "%%time\n",
    "detectorNoAug.fit(\n",
    "    images,\n",
    "    classes,\n",
    ")"
   ]
  },
  {
   "cell_type": "markdown",
   "metadata": {},
   "source": [
    "# Run the detector on a test image."
   ]
  },
  {
   "cell_type": "code",
   "execution_count": 8,
   "metadata": {},
   "outputs": [],
   "source": [
    "# testImages = [\n",
    "#     vehicleDetection.data.readImage('test_images/test%d.jpg' % (k+1,))\n",
    "#     for k in range(6)\n",
    "# ]"
   ]
  },
  {
   "cell_type": "code",
   "execution_count": 9,
   "metadata": {},
   "outputs": [],
   "source": [
    "# img = testImages[0]"
   ]
  },
  {
   "cell_type": "code",
   "execution_count": 10,
   "metadata": {
    "scrolled": false
   },
   "outputs": [],
   "source": [
    "# # from IPython.core.debugger import set_trace; set_trace()\n",
    "# ax = detector.drawDetect(img)\n",
    "# ax.set_title('Raw detected bounding boxes')\n",
    "# ax.set_yticks(np.round(np.linspace(0, 720, 8)));"
   ]
  },
  {
   "cell_type": "code",
   "execution_count": 11,
   "metadata": {
    "scrolled": false
   },
   "outputs": [],
   "source": [
    "# heatmap = detectorNoAug.heat(img.shape, detector.rawDetect(img))\n",
    "# thr = 1\n",
    "# heatmap[heatmap <= thr] = 0\n",
    "# fig, ax = plt.subplots()\n",
    "# im = ax.imshow(heatmap[:, :, 0], cmap=mpl.cm.hot)\n",
    "# fig.colorbar(im, label='number of hits (thresholded at %d)' % thr)\n",
    "# ax.set_xticks([])\n",
    "# ax.set_yticks([]);"
   ]
  },
  {
   "cell_type": "code",
   "execution_count": 12,
   "metadata": {},
   "outputs": [],
   "source": [
    "# fig, ax = plt.subplots()\n",
    "# nz = heatmap[heatmap>0]\n",
    "# ax.hist(nz.ravel());\n",
    "# ax.set_title('histogram of nonzero parts of heatmap thresholded at %d' % thr);"
   ]
  },
  {
   "cell_type": "code",
   "execution_count": 13,
   "metadata": {},
   "outputs": [],
   "source": [
    "# print('Number of support vectors for each class:', detector.clf.n_support_)"
   ]
  },
  {
   "cell_type": "code",
   "execution_count": 14,
   "metadata": {
    "scrolled": false
   },
   "outputs": [],
   "source": [
    "# labels = detector.detect(img, threshold=thr)[0][:, :, 0]\n",
    "# fig, ax = plt.subplots()\n",
    "# ax.imshow(labels, cmap=mpl.cm.rainbow)\n",
    "# ax.set_xticks([])\n",
    "# ax.set_yticks([]);\n",
    "# ax.set_title('Unique components of heatmap thresholded at %d' % thr);"
   ]
  },
  {
   "cell_type": "code",
   "execution_count": 15,
   "metadata": {
    "scrolled": false
   },
   "outputs": [],
   "source": [
    "# import os\n",
    "# ax = detector.drawHeat(img, threshold=thr)\n",
    "# ax.set_title('Outer bounding box for threshold=%d components' % thr)"
   ]
  },
  {
   "cell_type": "code",
   "execution_count": 16,
   "metadata": {},
   "outputs": [],
   "source": [
    "import time\n",
    "import skvideo.io\n",
    "from IPython.display import HTML\n",
    "\n",
    "def loadVideo(\n",
    "    fpath='../../../data/vehicleDetection/test_video.mp4', \n",
    "    maxFrames=None, \n",
    "    pbar=True\n",
    "):\n",
    "    reader = skvideo.io.FFmpegReader(fpath)\n",
    "    frames = []\n",
    "    actualMaxFrames = reader.inputframenum if maxFrames is None else maxFrames\n",
    "    if pbar:\n",
    "        bar = tqdm.tqdm_notebook(\n",
    "            total=actualMaxFrames,\n",
    "            desc='%s' % os.path.basename(fpath),\n",
    "        )\n",
    "        update = bar.update\n",
    "    else:\n",
    "        update = lambda : None\n",
    "\n",
    "    for frame in reader.nextFrame():\n",
    "        if len(frames) == actualMaxFrames:\n",
    "            break\n",
    "        update()\n",
    "        frames.append(frame)\n",
    "    return frames\n",
    "\n",
    "\n",
    "def fig2img(fig):\n",
    "    \"\"\"Render a Matplotlib figure to an image; good for simple video-making.\"\"\"\n",
    "    # stackoverflow.com/questions/35355930\n",
    "    from matplotlib.backends.backend_agg import FigureCanvasAgg as FigureCanvas\n",
    "    from matplotlib.figure import Figure\n",
    "\n",
    "    canvas = FigureCanvas(fig)\n",
    "    ax = fig.gca()\n",
    "    canvas.draw()       # draw the canvas, cache the renderer\n",
    "    width, _ = fig.get_size_inches() * fig.get_dpi()\n",
    "    width = int(width)\n",
    "    image = np.fromstring(canvas.tostring_rgb(), dtype='uint8').reshape(-1, width, 3)\n",
    "    return image\n",
    "\n",
    "\n",
    "def saveVideo(frames, fpath, **tqdmKw):\n",
    "    \"\"\"Save a collection of images to a video file. I've tried .mp4 extensions.\"\"\"\n",
    "    if tqdmKw.pop('pbar', True):\n",
    "        tqdmKw.setdefault('desc', os.path.basename(fpath))\n",
    "        tqdmKw.setdefault('unit', 'frame')\n",
    "        pbar = tqdm.tqdm_notebook\n",
    "    else:\n",
    "        pbar = lambda x, **kw: x\n",
    "    writer = skvideo.io.FFmpegWriter(fpath)\n",
    "    for frame in pbar(frames, **tqdmKw):\n",
    "        writer.writeFrame(frame)\n",
    "    writer.close()\n",
    "    return showAsHTML(fpath)\n",
    "\n",
    "\n",
    "def showAsHTML(fpath):\n",
    "    \"\"\"Display a video as a Jupyter HTML widget.\n",
    "\n",
    "    Use a relative path that is accessible via the jupyter notebook webserver.\n",
    "    \"\"\"\n",
    "    # Add a time argument to suggest that chrome shouldn't cache the video.\n",
    "    t = time.time()\n",
    "\n",
    "    # Display images with <image>.\n",
    "    for ext in '.png', '.gif', '.jpg', '.jpeg':\n",
    "        if fpath.lower().endswith(ext):\n",
    "            if fpath.lower().endswith('.gif'):\n",
    "                return jupyterTools.GIFforLatex(fpath)\n",
    "            else:\n",
    "                return HTML(\"\"\"<image src=\"%s?time=%s\" />\"\"\" % (fpath, t))\n",
    "\n",
    "    # Displaly videos with <video>.\n",
    "    return HTML(\"\"\"\n",
    "    <video width=100%% controls loop>\n",
    "      <source src=\"%s?time=%s\" type=\"video/mp4\">\n",
    "    </video>\n",
    "    \"\"\" % (fpath, t))\n"
   ]
  },
  {
   "cell_type": "code",
   "execution_count": 17,
   "metadata": {},
   "outputs": [],
   "source": [
    "import os\n",
    "\n",
    "class HeatVideo:\n",
    "    \n",
    "    def __init__(\n",
    "        self,\n",
    "        fpath='../../../data/vehicleDetection/test_video.mp4',\n",
    "        thr=1,\n",
    "        **loadKwargs\n",
    "    ):\n",
    "        loadKwargs.setdefault('pbar', False)\n",
    "        self.fpath = fpath\n",
    "        self.inputFrames = loadVideo(fpath=self.fpath, **loadKwargs)\n",
    "        self.thr = thr\n",
    "        \n",
    "    def go(self, det, label):\n",
    "        \n",
    "        if hasattr(det.clf, 'n_support'):\n",
    "            print('Number of support vectors for each class:', det.clf.n_support_)\n",
    "        \n",
    "        self.heated = []\n",
    "        \n",
    "        def draw(frame):\n",
    "            heat = det.heat(frame.shape, det.rawDetect(frame))\n",
    "            assert (heat >= 0).all()\n",
    "            assert heat.dtype == float\n",
    "            heat /= heat.max()\n",
    "            heat *= 255\n",
    "            heat = heat.astype('uint8')\n",
    "            self.heated.append(heat)\n",
    "            return heat\n",
    "            \n",
    "        return saveVideo(\n",
    "            (\n",
    "                draw(frame)\n",
    "                for frame in tqdm.tqdm_notebook(self.inputFrames, desc='heating', unit='frame')\n",
    "            ),\n",
    "            'doc/%s-heat%s.mp4' % (\n",
    "                os.path.basename(self.fpath).replace('.mp4', ''),\n",
    "                label,\n",
    "            )\n",
    "        )"
   ]
  },
  {
   "cell_type": "code",
   "execution_count": 18,
   "metadata": {},
   "outputs": [],
   "source": [
    "class DetectedVideo:\n",
    "    \n",
    "    def __init__(\n",
    "        self,\n",
    "        fpath='../../../data/vehicleDetection/test_video.mp4',\n",
    "        thr=1,\n",
    "        **loadKwargs\n",
    "    ):\n",
    "        loadKwargs.setdefault('pbar', False)\n",
    "        self.fpath = fpath\n",
    "        self.inputFrames = loadVideo(fpath=self.fpath, **loadKwargs)\n",
    "        self.thr = thr\n",
    "        \n",
    "    def go(self, det, label):\n",
    "        \n",
    "        self.detectedFrames = []\n",
    "        fig, ax = plt.subplots()\n",
    "        def draw(frame):\n",
    "            det.drawHeat(frame, threshold=self.thr, ax=ax)\n",
    "            out = fig2img(fig)\n",
    "            self.detectedFrames.append(out)\n",
    "            ax.cla()\n",
    "            return out\n",
    "            \n",
    "        return saveVideo(\n",
    "            (\n",
    "                draw(frame)\n",
    "                for frame in tqdm.tqdm_notebook(self.inputFrames, desc='bounding', unit='frame')\n",
    "            ),\n",
    "            'doc/%s-detected%s.mp4' % (\n",
    "                os.path.basename(self.fpath).replace('.mp4', ''),\n",
    "                label,\n",
    "            )\n",
    "        )\n",
    "\n",
    "\n",
    "#     class DetectedVideo:\n",
    "    \n",
    "#     def __init__(\n",
    "#         self,\n",
    "#         detector,\n",
    "#         fpath='../../../data/vehicleDetection/test_video.mp4',\n",
    "#         thr=1,\n",
    "#         label='',\n",
    "#         **loadKwargs\n",
    "#     ):\n",
    "#         self.detector = detector\n",
    "#         loadKwargs.setdefault('pbar', False)\n",
    "#         self.fpath = fpath\n",
    "#         self.inputFrames = loadVideo(fpath=self.fpath, **loadKwargs)\n",
    "#         self.thr = thr\n",
    "#         self.label = label\n",
    "        \n",
    "#     def go(self):\n",
    "        \n",
    "#         self.detectedFrames = []\n",
    "        \n",
    "#         fig, ax = plt.subplots()\n",
    "#         for frame in tqdm.tqdm_notebook(self.inputFrames, desc='predicting', unit='frame'):\n",
    "#             self.detector.drawHeat(frame, threshold=self.thr, ax=ax)\n",
    "#             self.detectedFrames.append(fig2img(fig))\n",
    "#             ax.cla()\n",
    "            \n",
    "#         return saveVideo(\n",
    "#             self.detectedFrames,\n",
    "#             'doc/%s-detected%s.mp4' % (\n",
    "#                 os.path.basename(self.fpath).replace('.mp4', ''),\n",
    "#                 self.label,\n",
    "#             )\n",
    "#         )"
   ]
  },
  {
   "cell_type": "code",
   "execution_count": 19,
   "metadata": {},
   "outputs": [],
   "source": [
    "testh = HeatVideo()\n",
    "projh = HeatVideo(fpath='../../../data/vehicleDetection/project_video.mp4',)"
   ]
  },
  {
   "cell_type": "code",
   "execution_count": 20,
   "metadata": {},
   "outputs": [],
   "source": [
    "test = DetectedVideo()\n",
    "proj = DetectedVideo(\n",
    "    fpath='../../../data/vehicleDetection/project_video.mp4',\n",
    ")"
   ]
  },
  {
   "cell_type": "code",
   "execution_count": 21,
   "metadata": {
    "scrolled": false
   },
   "outputs": [
    {
     "data": {
      "application/vnd.jupyter.widget-view+json": {
       "model_id": "4b1afccd1f5940fc98886eb80aaa5a28",
       "version_major": 2,
       "version_minor": 0
      },
      "text/html": [
       "<p>Failed to display Jupyter Widget of type <code>HBox</code>.</p>\n",
       "<p>\n",
       "  If you're reading this message in Jupyter Notebook or JupyterLab, it may mean\n",
       "  that the widgets JavaScript is still loading. If this message persists, it\n",
       "  likely means that the widgets JavaScript library is either not installed or\n",
       "  not enabled. See the <a href=\"https://ipywidgets.readthedocs.io/en/stable/user_install.html\">Jupyter\n",
       "  Widgets Documentation</a> for setup instructions.\n",
       "</p>\n",
       "<p>\n",
       "  If you're reading this message in another notebook frontend (for example, a static\n",
       "  rendering on GitHub or <a href=\"https://nbviewer.jupyter.org/\">NBViewer</a>),\n",
       "  it may mean that your frontend doesn't currently support widgets.\n",
       "</p>\n"
      ],
      "text/plain": [
       "HBox(children=(IntProgress(value=0, description='heating: ', max=38), HTML(value='')))"
      ]
     },
     "metadata": {},
     "output_type": "display_data"
    },
    {
     "data": {
      "application/vnd.jupyter.widget-view+json": {
       "model_id": "f54b5b839e684f2e937a491009704b09",
       "version_major": 2,
       "version_minor": 0
      },
      "text/html": [
       "<p>Failed to display Jupyter Widget of type <code>HBox</code>.</p>\n",
       "<p>\n",
       "  If you're reading this message in Jupyter Notebook or JupyterLab, it may mean\n",
       "  that the widgets JavaScript is still loading. If this message persists, it\n",
       "  likely means that the widgets JavaScript library is either not installed or\n",
       "  not enabled. See the <a href=\"https://ipywidgets.readthedocs.io/en/stable/user_install.html\">Jupyter\n",
       "  Widgets Documentation</a> for setup instructions.\n",
       "</p>\n",
       "<p>\n",
       "  If you're reading this message in another notebook frontend (for example, a static\n",
       "  rendering on GitHub or <a href=\"https://nbviewer.jupyter.org/\">NBViewer</a>),\n",
       "  it may mean that your frontend doesn't currently support widgets.\n",
       "</p>\n"
      ],
      "text/plain": [
       "HBox(children=(IntProgress(value=1, bar_style='info', description='test_video-heat-unaugmented.mp4: ', max=1), HTML(value='')))"
      ]
     },
     "metadata": {},
     "output_type": "display_data"
    },
    {
     "name": "stderr",
     "output_type": "stream",
     "text": [
      "/home/tsbertalan/.virtualenvs/carnd/lib/python3.5/site-packages/skimage/feature/_hog.py:119: skimage_deprecation: Default value of `block_norm`==`L1` is deprecated and will be changed to `L2-Hys` in v0.15\n",
      "  'be changed to `L2-Hys` in v0.15', skimage_deprecation)\n"
     ]
    },
    {
     "name": "stdout",
     "output_type": "stream",
     "text": [
      "\n",
      "\n"
     ]
    },
    {
     "data": {
      "text/html": [
       "\n",
       "    <video width=100% controls loop>\n",
       "      <source src=\"doc/test_video-heat-unaugmented.mp4?time=1515411801.541051\" type=\"video/mp4\">\n",
       "    </video>\n",
       "    "
      ],
      "text/plain": [
       "<IPython.core.display.HTML object>"
      ]
     },
     "execution_count": 21,
     "metadata": {},
     "output_type": "execute_result"
    }
   ],
   "source": [
    "testh = HeatVideo()\n",
    "testh.go(detectorNoAug, label='-unaugmented')"
   ]
  },
  {
   "cell_type": "code",
   "execution_count": 22,
   "metadata": {},
   "outputs": [],
   "source": [
    "# frame = testh.inputFrames[0]\n",
    "# windows = detectorNoAug.rawDetect(frame)\n",
    "# heat = detectorNoAug.heat(frame.shape, windows)\n",
    "\n",
    "# heat[heat<=1] = 0\n",
    "\n",
    "# plt.imshow(heat)"
   ]
  },
  {
   "cell_type": "code",
   "execution_count": null,
   "metadata": {},
   "outputs": [
    {
     "data": {
      "text/plain": [
       "6"
      ]
     },
     "execution_count": 23,
     "metadata": {},
     "output_type": "execute_result"
    }
   ],
   "source": [
    "import gc\n",
    "gc.collect()"
   ]
  },
  {
   "cell_type": "code",
   "execution_count": null,
   "metadata": {},
   "outputs": [
    {
     "data": {
      "application/vnd.jupyter.widget-view+json": {
       "model_id": "662b85c824c24654bcc4d75e385d67b5",
       "version_major": 2,
       "version_minor": 0
      },
      "text/html": [
       "<p>Failed to display Jupyter Widget of type <code>HBox</code>.</p>\n",
       "<p>\n",
       "  If you're reading this message in Jupyter Notebook or JupyterLab, it may mean\n",
       "  that the widgets JavaScript is still loading. If this message persists, it\n",
       "  likely means that the widgets JavaScript library is either not installed or\n",
       "  not enabled. See the <a href=\"https://ipywidgets.readthedocs.io/en/stable/user_install.html\">Jupyter\n",
       "  Widgets Documentation</a> for setup instructions.\n",
       "</p>\n",
       "<p>\n",
       "  If you're reading this message in another notebook frontend (for example, a static\n",
       "  rendering on GitHub or <a href=\"https://nbviewer.jupyter.org/\">NBViewer</a>),\n",
       "  it may mean that your frontend doesn't currently support widgets.\n",
       "</p>\n"
      ],
      "text/plain": [
       "HBox(children=(IntProgress(value=0, description='heating: ', max=1260), HTML(value='')))"
      ]
     },
     "metadata": {},
     "output_type": "display_data"
    },
    {
     "data": {
      "application/vnd.jupyter.widget-view+json": {
       "model_id": "4141b54354fb47cba26a50e4b8ca5181",
       "version_major": 2,
       "version_minor": 0
      },
      "text/html": [
       "<p>Failed to display Jupyter Widget of type <code>HBox</code>.</p>\n",
       "<p>\n",
       "  If you're reading this message in Jupyter Notebook or JupyterLab, it may mean\n",
       "  that the widgets JavaScript is still loading. If this message persists, it\n",
       "  likely means that the widgets JavaScript library is either not installed or\n",
       "  not enabled. See the <a href=\"https://ipywidgets.readthedocs.io/en/stable/user_install.html\">Jupyter\n",
       "  Widgets Documentation</a> for setup instructions.\n",
       "</p>\n",
       "<p>\n",
       "  If you're reading this message in another notebook frontend (for example, a static\n",
       "  rendering on GitHub or <a href=\"https://nbviewer.jupyter.org/\">NBViewer</a>),\n",
       "  it may mean that your frontend doesn't currently support widgets.\n",
       "</p>\n"
      ],
      "text/plain": [
       "HBox(children=(IntProgress(value=1, bar_style='info', description='project_video-heat-unaugmented.mp4: ', max=1), HTML(value='')))"
      ]
     },
     "metadata": {},
     "output_type": "display_data"
    },
    {
     "name": "stderr",
     "output_type": "stream",
     "text": [
      "/home/tsbertalan/.virtualenvs/carnd/lib/python3.5/site-packages/skimage/feature/_hog.py:119: skimage_deprecation: Default value of `block_norm`==`L1` is deprecated and will be changed to `L2-Hys` in v0.15\n",
      "  'be changed to `L2-Hys` in v0.15', skimage_deprecation)\n"
     ]
    }
   ],
   "source": [
    "projh.go(detectorNoAug, label='-unaugmented')"
   ]
  },
  {
   "cell_type": "code",
   "execution_count": null,
   "metadata": {},
   "outputs": [],
   "source": [
    "test.go(detectorNoAug, label='-unaugmented')"
   ]
  },
  {
   "cell_type": "code",
   "execution_count": null,
   "metadata": {},
   "outputs": [],
   "source": [
    "proj.go(detectorNoAug, label='-unaugmented')"
   ]
  },
  {
   "cell_type": "markdown",
   "metadata": {},
   "source": [
    "Try again on the agumented data."
   ]
  },
  {
   "cell_type": "code",
   "execution_count": null,
   "metadata": {},
   "outputs": [],
   "source": [
    "images, classes = vehicleDetection.data.getData()"
   ]
  },
  {
   "cell_type": "code",
   "execution_count": null,
   "metadata": {},
   "outputs": [],
   "source": [
    "detectorAug = vehicleDetection.detector.Detector()"
   ]
  },
  {
   "cell_type": "code",
   "execution_count": null,
   "metadata": {},
   "outputs": [],
   "source": [
    "%%time\n",
    "detectorAug.fit(\n",
    "    images,\n",
    "    classes,\n",
    ")"
   ]
  },
  {
   "cell_type": "code",
   "execution_count": null,
   "metadata": {},
   "outputs": [],
   "source": [
    "testha = HeatVideo()\n",
    "testha.go(detectorAug, label='-augmented')"
   ]
  },
  {
   "cell_type": "code",
   "execution_count": null,
   "metadata": {},
   "outputs": [],
   "source": [
    "projha = HeatVideo(fpath='../../../data/vehicleDetection/project_video.mp4',)\n",
    "projha.go(detectorAug, label='-augmented')"
   ]
  },
  {
   "cell_type": "code",
   "execution_count": null,
   "metadata": {},
   "outputs": [],
   "source": [
    "testa = DetectedVideo(\n",
    "    label='-augmented',\n",
    ")\n",
    "testa.go(detectorAug, label='-augmented')"
   ]
  },
  {
   "cell_type": "code",
   "execution_count": null,
   "metadata": {},
   "outputs": [],
   "source": [
    "proja = DetectedVideo(\n",
    "    fpath='../../../data/vehicleDetection/project_video.mp4',\n",
    ")\n",
    "proja.go(detectorAug, label='-augmented')"
   ]
  }
 ],
 "metadata": {
  "kernelspec": {
   "display_name": "Python 3 (no explicit path to executable given)",
   "language": "python",
   "name": "python3"
  },
  "language_info": {
   "codemirror_mode": {
    "name": "ipython",
    "version": 3
   },
   "file_extension": ".py",
   "mimetype": "text/x-python",
   "name": "python",
   "nbconvert_exporter": "python",
   "pygments_lexer": "ipython3",
   "version": "3.5.2"
  }
 },
 "nbformat": 4,
 "nbformat_minor": 2
}
